{
  "nbformat": 4,
  "nbformat_minor": 0,
  "metadata": {
    "colab": {
      "provenance": []
    },
    "kernelspec": {
      "name": "python3",
      "display_name": "Python 3"
    },
    "language_info": {
      "name": "python"
    }
  },
  "cells": [
    {
      "cell_type": "code",
      "execution_count": 2,
      "metadata": {
        "colab": {
          "base_uri": "https://localhost:8080/"
        },
        "id": "xs_ZlgJtbr3v",
        "outputId": "1dc044f8-0b6e-49d6-96b0-6567a89532b9"
      },
      "outputs": [
        {
          "output_type": "stream",
          "name": "stdout",
          "text": [
            "\u001b[1m1/1\u001b[0m \u001b[32m━━━━━━━━━━━━━━━━━━━━\u001b[0m\u001b[37m\u001b[0m \u001b[1m0s\u001b[0m 275ms/step\n",
            "LSTM prediction for 4: 1.6883385\n"
          ]
        }
      ],
      "source": [
        "import tensorflow as tf\n",
        "import numpy as np\n",
        "\n",
        "# Simple sequence data\n",
        "X = np.array([[[0]], [[1]], [[2]], [[3]]])\n",
        "y = np.array([[1], [2], [3], [4]])\n",
        "\n",
        "# Define LSTM model\n",
        "model = tf.keras.Sequential([\n",
        "    tf.keras.Input(shape=(1, 1)),\n",
        "    tf.keras.layers.LSTM(10, activation='relu'),\n",
        "    tf.keras.layers.Dense(1)\n",
        "])\n",
        "\n",
        "model.compile(optimizer='adam', loss='mse')\n",
        "model.fit(X, y, epochs=200, verbose=0)\n",
        "\n",
        "# Predict\n",
        "test_input = np.array([[[4]]])  # Proper format for input\n",
        "prediction = model.predict(test_input)\n",
        "print(\"LSTM prediction for 4:\", prediction[0][0])\n"
      ]
    }
  ]
}