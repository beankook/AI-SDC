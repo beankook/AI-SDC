{
  "nbformat": 4,
  "nbformat_minor": 0,
  "metadata": {
    "colab": {
      "provenance": []
    },
    "kernelspec": {
      "name": "python3",
      "display_name": "Python 3"
    },
    "language_info": {
      "name": "python"
    }
  },
  "cells": [
    {
      "cell_type": "code",
      "execution_count": 1,
      "metadata": {
        "colab": {
          "base_uri": "https://localhost:8080/"
        },
        "id": "2oWUvI_hYrTL",
        "outputId": "9258a74e-bcba-4e6f-f3e4-184fae3585df"
      },
      "outputs": [
        {
          "output_type": "stream",
          "name": "stdout",
          "text": [
            "Skills Found: ['Experienced Python']\n"
          ]
        }
      ],
      "source": [
        "import spacy\n",
        "nlp = spacy.load(\"en_core_web_sm\")\n",
        "\n",
        "resume_text = \"\"\"Experienced Python developer with 3 years of web development and machine learning exposure.\"\"\"\n",
        "\n",
        "doc = nlp(resume_text)\n",
        "skills = [ent.text for ent in doc.ents if ent.label_ in ['ORG', 'SKILL', 'WORK_OF_ART']]\n",
        "print(\"Skills Found:\", skills)\n"
      ]
    }
  ]
}