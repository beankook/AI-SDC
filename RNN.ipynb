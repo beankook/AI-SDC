{
  "nbformat": 4,
  "nbformat_minor": 0,
  "metadata": {
    "colab": {
      "provenance": []
    },
    "kernelspec": {
      "name": "python3",
      "display_name": "Python 3"
    },
    "language_info": {
      "name": "python"
    }
  },
  "cells": [
    {
      "cell_type": "code",
      "execution_count": 2,
      "metadata": {
        "colab": {
          "base_uri": "https://localhost:8080/"
        },
        "id": "TYD7_nihbeYp",
        "outputId": "4d587231-2c52-4d10-d414-e90c68e44e5e"
      },
      "outputs": [
        {
          "output_type": "stream",
          "name": "stdout",
          "text": [
            "\u001b[1m1/1\u001b[0m \u001b[32m━━━━━━━━━━━━━━━━━━━━\u001b[0m\u001b[37m\u001b[0m \u001b[1m0s\u001b[0m 154ms/step\n",
            "RNN prediction for 4: 4.9004154\n"
          ]
        }
      ],
      "source": [
        "import tensorflow as tf\n",
        "import numpy as np\n",
        "\n",
        "# Sequence data: input (0 to 3), output (1 to 4)\n",
        "X = np.array([[[0]], [[1]], [[2]], [[3]]])\n",
        "y = np.array([[1], [2], [3], [4]])\n",
        "\n",
        "# Define model\n",
        "model = tf.keras.Sequential([\n",
        "    tf.keras.Input(shape=(1, 1)),  # Proper input shape\n",
        "    tf.keras.layers.SimpleRNN(10, activation='relu'),\n",
        "    tf.keras.layers.Dense(1)\n",
        "])\n",
        "\n",
        "model.compile(optimizer='adam', loss='mse')\n",
        "model.fit(X, y, epochs=200, verbose=0)\n",
        "\n",
        "# Predict for input 4\n",
        "test_input = np.array([[[4]]])  # Use NumPy array\n",
        "prediction = model.predict(test_input)\n",
        "print(\"RNN prediction for 4:\", prediction[0][0])\n"
      ]
    }
  ]
}