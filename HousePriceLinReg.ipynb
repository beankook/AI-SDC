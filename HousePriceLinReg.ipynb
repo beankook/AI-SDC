{
  "nbformat": 4,
  "nbformat_minor": 0,
  "metadata": {
    "colab": {
      "provenance": []
    },
    "kernelspec": {
      "name": "python3",
      "display_name": "Python 3"
    },
    "language_info": {
      "name": "python"
    }
  },
  "cells": [
    {
      "cell_type": "code",
      "execution_count": 1,
      "metadata": {
        "colab": {
          "base_uri": "https://localhost:8080/"
        },
        "id": "7q_DTuwsfoUc",
        "outputId": "373ce03f-968a-4fe0-8535-9f0dae75012b"
      },
      "outputs": [
        {
          "output_type": "stream",
          "name": "stdout",
          "text": [
            "Predicted price for 2200 sqft: 220000.0\n"
          ]
        },
        {
          "output_type": "stream",
          "name": "stderr",
          "text": [
            "/usr/local/lib/python3.11/dist-packages/sklearn/utils/validation.py:2739: UserWarning: X does not have valid feature names, but LinearRegression was fitted with feature names\n",
            "  warnings.warn(\n"
          ]
        }
      ],
      "source": [
        "import pandas as pd\n",
        "from sklearn.linear_model import LinearRegression\n",
        "from sklearn.model_selection import train_test_split\n",
        "\n",
        "# Sample dataset\n",
        "data = {\n",
        "    'Area': [1000, 1500, 2000, 2500, 3000],\n",
        "    'Price': [100000, 150000, 200000, 250000, 300000]\n",
        "}\n",
        "df = pd.DataFrame(data)\n",
        "\n",
        "X = df[['Area']]\n",
        "y = df['Price']\n",
        "\n",
        "model = LinearRegression()\n",
        "model.fit(X, y)\n",
        "\n",
        "# Predict\n",
        "area = [[2200]]\n",
        "predicted_price = model.predict(area)\n",
        "print(f\"Predicted price for 2200 sqft: {predicted_price[0]}\")\n"
      ]
    }
  ]
}