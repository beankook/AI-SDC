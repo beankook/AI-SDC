{
  "nbformat": 4,
  "nbformat_minor": 0,
  "metadata": {
    "colab": {
      "provenance": []
    },
    "kernelspec": {
      "name": "python3",
      "display_name": "Python 3"
    },
    "language_info": {
      "name": "python"
    }
  },
  "cells": [
    {
      "cell_type": "code",
      "execution_count": 4,
      "metadata": {
        "colab": {
          "base_uri": "https://localhost:8080/"
        },
        "id": "-fGl5KVRXwe6",
        "outputId": "24fe976d-6b6d-465a-8244-77ccad4d9087"
      },
      "outputs": [
        {
          "output_type": "stream",
          "name": "stdout",
          "text": [
            "வணக்கம்\n",
            "இரவு வணக்கம்\n"
          ]
        }
      ],
      "source": [
        "# Simple English to Tamil word dictionary\n",
        "dictionary = {\n",
        "    \"hello\": \"வணக்கம்\",\n",
        "    \"how are you\": \"நீங்கள் எப்படி இருக்கிறீர்கள்\",\n",
        "    \"thank you\": \"நன்றி\",\n",
        "    \"good morning\": \"காலை வணக்கம்\",\n",
        "    \"good night\": \"இரவு வணக்கம்\"\n",
        "}\n",
        "\n",
        "def translate(text):\n",
        "    text = text.lower().strip()\n",
        "    return dictionary.get(text, \"Translation not available\")\n",
        "\n",
        "# Sample input\n",
        "print(translate(\"Hello\"))  # Output: வணக்கம்\n",
        "print(translate(\"Good night\"))  # Output: இரவு வணக்கம்\n"
      ]
    }
  ]
}