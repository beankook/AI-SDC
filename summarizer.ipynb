{
  "nbformat": 4,
  "nbformat_minor": 0,
  "metadata": {
    "colab": {
      "provenance": []
    },
    "kernelspec": {
      "name": "python3",
      "display_name": "Python 3"
    },
    "language_info": {
      "name": "python"
    }
  },
  "cells": [
    {
      "cell_type": "code",
      "source": [
        "from sklearn.feature_extraction.text import TfidfVectorizer\n",
        "from sklearn.metrics.pairwise import cosine_similarity\n",
        "import numpy as np\n",
        "\n",
        "def summarize_text(text, num_sentences=2):\n",
        "    # Split by sentence using basic punctuation\n",
        "    sentences = [s.strip() for s in text.split('.') if len(s.strip()) > 0]\n",
        "\n",
        "    # TF-IDF Vectorization\n",
        "    vectorizer = TfidfVectorizer()\n",
        "    tfidf_matrix = vectorizer.fit_transform(sentences)\n",
        "\n",
        "    # Similarity matrix\n",
        "    similarity_matrix = cosine_similarity(tfidf_matrix)\n",
        "\n",
        "    # Sentence scores by sum of similarities\n",
        "    scores = similarity_matrix.sum(axis=1)\n",
        "\n",
        "    # Get top sentences\n",
        "    top_indices = np.argsort(scores)[-num_sentences:]\n",
        "    top_indices.sort()\n",
        "\n",
        "    # Summary\n",
        "    summary = '. '.join([sentences[i] for i in top_indices]) + '.'\n",
        "    return summary\n",
        "\n",
        "# Test it\n",
        "text = \"\"\"\n",
        "Artificial Intelligence is rapidly changing the way we interact with technology.\n",
        "From personal assistants to medical diagnosis, AI is transforming various industries.\n",
        "This technology is also powering autonomous vehicles and smart recommendation systems.\n",
        "Its ability to learn and adapt makes it a powerful tool in modern-day applications.\n",
        "\"\"\"\n",
        "\n",
        "print(\"📝 Summary:\")\n",
        "print(summarize_text(text))\n"
      ],
      "metadata": {
        "colab": {
          "base_uri": "https://localhost:8080/"
        },
        "id": "DCx5JHd4d07_",
        "outputId": "dc4d1003-21fe-4ef9-f41f-860c92705847"
      },
      "execution_count": 15,
      "outputs": [
        {
          "output_type": "stream",
          "name": "stdout",
          "text": [
            "📝 Summary:\n",
            "Artificial Intelligence is rapidly changing the way we interact with technology. This technology is also powering autonomous vehicles and smart recommendation systems.\n"
          ]
        }
      ]
    }
  ]
}