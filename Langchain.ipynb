{
  "nbformat": 4,
  "nbformat_minor": 0,
  "metadata": {
    "colab": {
      "provenance": []
    },
    "kernelspec": {
      "name": "python3",
      "display_name": "Python 3"
    },
    "language_info": {
      "name": "python"
    }
  },
  "cells": [
    {
      "cell_type": "code",
      "execution_count": 1,
      "metadata": {
        "colab": {
          "base_uri": "https://localhost:8080/"
        },
        "id": "cD9Atgwee47-",
        "outputId": "c619de5b-01a3-4743-c398-052959889aca"
      },
      "outputs": [
        {
          "output_type": "stream",
          "name": "stdout",
          "text": [
            "LLM 1 says: The answer to 'What is the meaning of life?' is 42.\n",
            "LLM 2 adds: But it depends on how you define 'What is the meaning of life?'.\n"
          ]
        }
      ],
      "source": [
        "def mock_llm_1(query):\n",
        "    return f\"LLM 1 says: The answer to '{query}' is 42.\"\n",
        "\n",
        "def mock_llm_2(query):\n",
        "    return f\"LLM 2 adds: But it depends on how you define '{query}'.\"\n",
        "\n",
        "def chat_with_two_llms(query):\n",
        "    print(mock_llm_1(query))\n",
        "    print(mock_llm_2(query))\n",
        "\n",
        "# Example\n",
        "chat_with_two_llms(\"What is the meaning of life?\")\n"
      ]
    }
  ]
}