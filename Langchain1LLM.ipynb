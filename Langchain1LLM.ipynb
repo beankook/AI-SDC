{
  "nbformat": 4,
  "nbformat_minor": 0,
  "metadata": {
    "colab": {
      "provenance": []
    },
    "kernelspec": {
      "name": "python3",
      "display_name": "Python 3"
    },
    "language_info": {
      "name": "python"
    }
  },
  "cells": [
    {
      "cell_type": "code",
      "execution_count": 4,
      "metadata": {
        "colab": {
          "base_uri": "https://localhost:8080/"
        },
        "id": "x3wDFNCEfEww",
        "outputId": "c88ff4f2-4a5d-4af1-d8fe-65b926356aa7"
      },
      "outputs": [
        {
          "output_type": "stream",
          "name": "stdout",
          "text": [
            "LLM response to 'How am I doing?' is: 'You're doing great!'\n",
            "Sentiment: Sentiment(polarity=1.0, subjectivity=0.75)\n"
          ]
        }
      ],
      "source": [
        "from textblob import TextBlob\n",
        "\n",
        "def mock_llm(query):\n",
        "    return f\"LLM response to '{query}' is: 'You're doing great!'\"\n",
        "\n",
        "def sentiment_analysis(text):\n",
        "    analysis = TextBlob(text)\n",
        "    return analysis.sentiment\n",
        "\n",
        "# Example\n",
        "query = \"How am I doing?\"\n",
        "response = mock_llm(query)\n",
        "sentiment = sentiment_analysis(response)\n",
        "\n",
        "print(response)\n",
        "print(\"Sentiment:\", sentiment)\n"
      ]
    },
    {
      "cell_type": "code",
      "source": [
        "!pip install -q textblob\n"
      ],
      "metadata": {
        "id": "lK-ZOwCrfUw1"
      },
      "execution_count": 2,
      "outputs": []
    }
  ]
}