{
  "nbformat": 4,
  "nbformat_minor": 0,
  "metadata": {
    "colab": {
      "provenance": []
    },
    "kernelspec": {
      "name": "python3",
      "display_name": "Python 3"
    },
    "language_info": {
      "name": "python"
    }
  },
  "cells": [
    {
      "cell_type": "code",
      "execution_count": 2,
      "metadata": {
        "colab": {
          "base_uri": "https://localhost:8080/"
        },
        "id": "UuuyZ7fjW8HU",
        "outputId": "a7756c9f-a882-4b31-a90c-755523c1f8df"
      },
      "outputs": [
        {
          "output_type": "stream",
          "name": "stderr",
          "text": [
            "Device set to use cpu\n",
            "Your max_length is set to 100, but your input_length is only 65. Since this is a summarization task, where outputs shorter than the input are typically wanted, you might consider decreasing max_length manually, e.g. summarizer('...', max_length=32)\n"
          ]
        },
        {
          "output_type": "stream",
          "name": "stdout",
          "text": [
            "Summary: India recorded a growth rate of 7.8% in the first quarter of 2025, driven by strong performances in manufacturing and construction sectors. Experts believe that the upcoming fiscal policies will further boost private investment and employment rates.\n"
          ]
        }
      ],
      "source": [
        "from transformers import pipeline\n",
        "\n",
        "summarizer = pipeline(\"summarization\", model=\"facebook/bart-large-cnn\")\n",
        "\n",
        "article = \"\"\"\n",
        "India recorded a growth rate of 7.8% in the first quarter of 2025, driven by strong performances in manufacturing and construction sectors. The Finance Ministry announced that these results surpassed earlier projections, indicating a stable economic recovery. Experts believe that the upcoming fiscal policies will further boost private investment and employment rates.\n",
        "\"\"\"\n",
        "\n",
        "summary = summarizer(article, max_length=100, min_length=30, do_sample=False)\n",
        "print(\"Summary:\", summary[0]['summary_text'])\n"
      ]
    }
  ]
}