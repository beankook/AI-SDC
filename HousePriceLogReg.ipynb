{
  "nbformat": 4,
  "nbformat_minor": 0,
  "metadata": {
    "colab": {
      "provenance": []
    },
    "kernelspec": {
      "name": "python3",
      "display_name": "Python 3"
    },
    "language_info": {
      "name": "python"
    }
  },
  "cells": [
    {
      "cell_type": "code",
      "execution_count": 2,
      "metadata": {
        "colab": {
          "base_uri": "https://localhost:8080/"
        },
        "id": "gKs6WiXsf268",
        "outputId": "6c3f978e-ed1c-4982-9fe5-462ceadb4436"
      },
      "outputs": [
        {
          "output_type": "stream",
          "name": "stdout",
          "text": [
            "Is a 2200 sqft house expensive? Yes\n"
          ]
        },
        {
          "output_type": "stream",
          "name": "stderr",
          "text": [
            "/usr/local/lib/python3.11/dist-packages/sklearn/utils/validation.py:2739: UserWarning: X does not have valid feature names, but LogisticRegression was fitted with feature names\n",
            "  warnings.warn(\n"
          ]
        }
      ],
      "source": [
        "import pandas as pd\n",
        "from sklearn.linear_model import LogisticRegression\n",
        "\n",
        "# Sample dataset\n",
        "data = {\n",
        "    'Area': [1000, 1500, 2000, 2500, 3000],\n",
        "    'Expensive': [0, 0, 1, 1, 1]  # 1 if price > 200000\n",
        "}\n",
        "df = pd.DataFrame(data)\n",
        "\n",
        "X = df[['Area']]\n",
        "y = df['Expensive']\n",
        "\n",
        "model = LogisticRegression()\n",
        "model.fit(X, y)\n",
        "\n",
        "# Predict\n",
        "area = [[2200]]\n",
        "prediction = model.predict(area)\n",
        "print(f\"Is a 2200 sqft house expensive? {'Yes' if prediction[0] else 'No'}\")\n"
      ]
    }
  ]
}