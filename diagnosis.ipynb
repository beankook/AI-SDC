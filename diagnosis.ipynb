{
  "nbformat": 4,
  "nbformat_minor": 0,
  "metadata": {
    "colab": {
      "provenance": []
    },
    "kernelspec": {
      "name": "python3",
      "display_name": "Python 3"
    },
    "language_info": {
      "name": "python"
    }
  },
  "cells": [
    {
      "cell_type": "code",
      "execution_count": 1,
      "metadata": {
        "colab": {
          "base_uri": "https://localhost:8080/"
        },
        "id": "u3FKQfxhY9iS",
        "outputId": "11cc531a-96df-4df2-9a25-30fa67afbdf1"
      },
      "outputs": [
        {
          "output_type": "stream",
          "name": "stdout",
          "text": [
            "Possible diagnosis: Flu or COVID-19\n"
          ]
        }
      ],
      "source": [
        "def diagnose(symptoms):\n",
        "    symptoms = symptoms.lower()\n",
        "    if \"fever\" in symptoms and \"cough\" in symptoms:\n",
        "        return \"Possible diagnosis: Flu or COVID-19\"\n",
        "    elif \"headache\" in symptoms and \"nausea\" in symptoms:\n",
        "        return \"Possible diagnosis: Migraine\"\n",
        "    else:\n",
        "        return \"Diagnosis not found. Please consult a doctor.\"\n",
        "\n",
        "print(diagnose(\"I have fever and cough\"))\n"
      ]
    }
  ]
}